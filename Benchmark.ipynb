{
 "cells": [
  {
   "cell_type": "markdown",
   "metadata": {},
   "source": [
    "benchmark base: https://github.com/py-pdf/benchmarks \\\n",
    "dataset chatgpt: https://www.kaggle.com/datasets/sourceduty/chatgpt-books?resource=download \\\n",
    "dataset llm: https://www.kaggle.com/datasets/tanushreegupta2411/pdfs-llm \\\n",
    "dataset machado: https://www.kaggle.com/datasets/luxedo/machado-de-assis\n"
   ]
  },
  {
   "cell_type": "code",
   "execution_count": 8,
   "metadata": {},
   "outputs": [],
   "source": [
    "import os\n",
    "import fitz  \n",
    "import pypdfium2 as pdfium\n",
    "import pdftotext  \n",
    "from tika import parser  \n",
    "import time\n",
    "import matplotlib.pyplot as plt\n",
    "import numpy as np\n",
    "import pdfrw\n",
    "import PyPDF2"
   ]
  },
  {
   "cell_type": "code",
   "execution_count": 79,
   "metadata": {},
   "outputs": [],
   "source": [
    "def process_pdfs_pymupdf(base_directory):\n",
    "    start_total_time = time.time()\n",
    "\n",
    "    for subdir, _, files in os.walk(base_directory):\n",
    "\n",
    "        for filename in files:\n",
    "            if filename.endswith(\".pdf\"):\n",
    "                pdf_path = os.path.join(subdir, filename)\n",
    "                doc = fitz.open(pdf_path)\n",
    "                text = \"\"\n",
    "                for page_num in range(len(doc)):\n",
    "                    page = doc.load_page(page_num)\n",
    "                    text += page.get_text()\n",
    "                    \n",
    "\n",
    "    end_total_time = time.time()\n",
    "    total_time = end_total_time - start_total_time\n",
    "\n",
    "    return total_time"
   ]
  },
  {
   "cell_type": "code",
   "execution_count": 59,
   "metadata": {},
   "outputs": [],
   "source": [
    "def process_pdfs_pdfrw(base_directory):\n",
    "    start_total_time = time.time()\n",
    "\n",
    "    for subdir, _, files in os.walk(base_directory):\n",
    "        for filename in files:\n",
    "            if filename.endswith(\".pdf\"):\n",
    "                pdf_path = os.path.join(subdir, filename)\n",
    "\n",
    "                with pdfrw.PdfReader(pdf_path) as pdf:\n",
    "                    text = \"\"\n",
    "                    for page in pdf.pages:\n",
    "                        text += page.extract_text()\n",
    "\n",
    "    end_total_time = time.time()\n",
    "    total_time = end_total_time - start_total_time\n",
    "\n",
    "    return total_time"
   ]
  },
  {
   "cell_type": "code",
   "execution_count": 60,
   "metadata": {},
   "outputs": [],
   "source": [
    "def process_pdfs_pypdfium2(base_directory):\n",
    "    start_total_time = time.time()\n",
    "\n",
    "    for subdir, _, files in os.walk(base_directory):\n",
    "\n",
    "        for filename in files:\n",
    "            if filename.endswith(\".pdf\"):\n",
    "                pdf_path = os.path.join(subdir, filename)\n",
    "\n",
    "                pdf = pdfium.PdfDocument(pdf_path)\n",
    "                text = \"\"\n",
    "                for page_num in range(len(pdf)):\n",
    "                    page = pdf.get_page(page_num)\n",
    "                    text += page.get_textpage().get_text_range()\n",
    "\n",
    "    end_total_time = time.time()\n",
    "    total_time = end_total_time - start_total_time\n",
    "\n",
    "    return total_time"
   ]
  },
  {
   "cell_type": "code",
   "execution_count": 61,
   "metadata": {},
   "outputs": [],
   "source": [
    "def process_pdfs_pdftotext(base_directory):\n",
    "    start_total_time = time.time()\n",
    "\n",
    "    for subdir, _, files in os.walk(base_directory):\n",
    "\n",
    "        for filename in files:\n",
    "            if filename.endswith(\".pdf\"):\n",
    "                pdf_path = os.path.join(subdir, filename)\n",
    "\n",
    "                with open(pdf_path, \"rb\") as f:\n",
    "                    pdf = pdftotext.PDF(f)\n",
    "                text = \"\\\\n\\\\n\".join(pdf)\n",
    "\n",
    "    end_total_time = time.time()\n",
    "    total_time = end_total_time - start_total_time\n",
    "\n",
    "    return total_time"
   ]
  },
  {
   "cell_type": "code",
   "execution_count": 62,
   "metadata": {},
   "outputs": [],
   "source": [
    "def process_pdfs_tika(base_directory):\n",
    "    start_total_time = time.time()\n",
    "\n",
    "    for subdir, _, files in os.walk(base_directory):\n",
    "\n",
    "        for filename in files:\n",
    "            if filename.endswith(\".pdf\"):\n",
    "                pdf_path = os.path.join(subdir, filename)\n",
    "\n",
    "                raw = parser.from_file(pdf_path)\n",
    "                text = raw['content'].strip() if raw and raw.get('content') else ''\n",
    "\n",
    "    end_total_time = time.time()\n",
    "    total_time = end_total_time - start_total_time\n",
    "\n",
    "    return total_time"
   ]
  },
  {
   "cell_type": "code",
   "execution_count": 63,
   "metadata": {},
   "outputs": [],
   "source": [
    "def process_pdfs_pypdf2(base_directory):\n",
    "    start_total_time = time.time()\n",
    "\n",
    "    for subdir, _, files in os.walk(base_directory):\n",
    "        for filename in files:\n",
    "            if filename.endswith(\".pdf\"):\n",
    "                pdf_path = os.path.join(subdir, filename)\n",
    "                with open(pdf_path, \"rb\") as f:\n",
    "                    pdf = PyPDF2.PdfFileReader(f)\n",
    "                    text = \"\"\n",
    "                    for page_num in range(pdf.getNumPages()):\n",
    "                        page = pdf.getPage(page_num)\n",
    "                        text += page.extractText()\n",
    "\n",
    "    end_total_time = time.time()\n",
    "    total_time = end_total_time - start_total_time\n",
    "\n",
    "    return total_time"
   ]
  },
  {
   "cell_type": "code",
   "execution_count": 64,
   "metadata": {},
   "outputs": [],
   "source": [
    "def process_pdfs_spacypdfreader(base_directory):\n",
    "    start_total_time = time.time()\n",
    "\n",
    "    for subdir, _, files in os.walk(base_directory):\n",
    "        for filename in files:\n",
    "            if filename.endswith(\".pdf\"):\n",
    "                pdf_path = os.path.join(subdir, filename)\n",
    "                text = pdf_reader(pdf_path)\n",
    "\n",
    "    end_total_time = time.time()\n",
    "    total_time = end_total_time - start_total_time\n",
    "\n",
    "    return total_time"
   ]
  },
  {
   "cell_type": "code",
   "execution_count": 65,
   "metadata": {},
   "outputs": [],
   "source": [
    "def plot_execution_times(results):\n",
    "    libraries = [result[0] for result in results]\n",
    "    times = [result[1] for result in results]\n",
    "    sorted_data = sorted(zip(libraries, times), key=lambda x: x[1])\n",
    "    libraries_sorted, times_sorted = zip(*sorted_data)\n",
    "    plt.figure(figsize=(10, 6))\n",
    "    colors = plt.cm.viridis(np.linspace(0, 1, len(libraries_sorted)))\n",
    "    bars = plt.bar(libraries_sorted, times_sorted, color=colors)\n",
    "    for bar, time in zip(bars, times_sorted):\n",
    "        yval = bar.get_height()\n",
    "        plt.text(bar.get_x() + bar.get_width()/2, yval, f'{time:.2f} s', ha='center', va='bottom', fontsize=8)\n",
    "    plt.xticks(rotation=45)\n",
    "    plt.tight_layout()\n",
    "    plt.show()"
   ]
  },
  {
   "cell_type": "code",
   "execution_count": 66,
   "metadata": {},
   "outputs": [],
   "source": [
    "results = []\n",
    "data = \"data\""
   ]
  },
  {
   "cell_type": "code",
   "execution_count": 67,
   "metadata": {},
   "outputs": [],
   "source": [
    "timepymupdf = process_pdfs_pymupdf(data)\n",
    "results.append(('PyMuPdf', timepymupdf))"
   ]
  },
  {
   "cell_type": "code",
   "execution_count": 68,
   "metadata": {},
   "outputs": [
    {
     "name": "stderr",
     "output_type": "stream",
     "text": [
      "/home/vini/dev/Benchmark_lib_pdf/.venv/lib/python3.10/site-packages/pypdfium2/_helpers/textpage.py:80: UserWarning: get_text_range() call with default params will be implicitly redirected to get_text_bounded()\n",
      "  warnings.warn(\"get_text_range() call with default params will be implicitly redirected to get_text_bounded()\")\n"
     ]
    }
   ],
   "source": [
    "timefium = process_pdfs_pypdfium2(data)\n",
    "results.append(('pypdfium2', timefium))"
   ]
  },
  {
   "cell_type": "code",
   "execution_count": 69,
   "metadata": {},
   "outputs": [],
   "source": [
    "timepdfto = process_pdfs_pdftotext(data)\n",
    "results.append(('pdftotext', timepdfto))"
   ]
  },
  {
   "cell_type": "code",
   "execution_count": 70,
   "metadata": {},
   "outputs": [],
   "source": [
    "timetika = process_pdfs_tika(data)\n",
    "results.append(('tika', timetika))"
   ]
  },
  {
   "cell_type": "code",
   "execution_count": 71,
   "metadata": {},
   "outputs": [],
   "source": [
    "timepdfrw = process_pdfs_tika(data)\n",
    "results.append(('pdfrw', timepdfrw))"
   ]
  },
  {
   "cell_type": "code",
   "execution_count": 72,
   "metadata": {},
   "outputs": [],
   "source": [
    "timepypdf2 = process_pdfs_tika(data)\n",
    "results.append(('PyPdf2', timepypdf2))"
   ]
  },
  {
   "cell_type": "code",
   "execution_count": 73,
   "metadata": {},
   "outputs": [
    {
     "data": {
      "image/png": "[encoded data removed]",
      "text/plain": [
       "<Figure size 1000x600 with 1 Axes>"
      ]
     },
     "metadata": {},
     "output_type": "display_data"
    }
   ],
   "source": [
    "plot_execution_times(results)"
   ]
  }
 ],
 "metadata": {
  "kernelspec": {
   "display_name": ".venv",
   "language": "python",
   "name": "python3"
  },
  "language_info": {
   "codemirror_mode": {
    "name": "ipython",
    "version": 3
   },
   "file_extension": ".py",
   "mimetype": "text/x-python",
   "name": "python",
   "nbconvert_exporter": "python",
   "pygments_lexer": "ipython3",
   "version": "3.10.12"
  }
 },
 "nbformat": 4,
 "nbformat_minor": 2
}
