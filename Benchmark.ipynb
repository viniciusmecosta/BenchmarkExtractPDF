{
 "cells": [
  {
   "cell_type": "code",
   "execution_count": 9,
   "metadata": {},
   "outputs": [
    {
     "ename": "ImportError",
     "evalue": "cannot import name 'PDFStackT' from 'pdfminer.pdfinterp' (/home/vini/dev/bench_pdf/.venv/lib/python3.10/site-packages/pdfminer/pdfinterp.py)",
     "output_type": "error",
     "traceback": [
      "\u001b[0;31m---------------------------------------------------------------------------\u001b[0m",
      "\u001b[0;31mImportError\u001b[0m                               Traceback (most recent call last)",
      "Cell \u001b[0;32mIn[9], line 7\u001b[0m\n\u001b[1;32m      5\u001b[0m \u001b[38;5;28;01mimport\u001b[39;00m \u001b[38;5;21;01mtextract\u001b[39;00m\n\u001b[1;32m      6\u001b[0m \u001b[38;5;28;01mimport\u001b[39;00m \u001b[38;5;21;01mfitz\u001b[39;00m  \u001b[38;5;66;03m# PyMuPDF\u001b[39;00m\n\u001b[0;32m----> 7\u001b[0m \u001b[38;5;28;01mimport\u001b[39;00m \u001b[38;5;21;01mpdfplumber\u001b[39;00m\n\u001b[1;32m      8\u001b[0m \u001b[38;5;28;01mimport\u001b[39;00m \u001b[38;5;21;01mpdfrw\u001b[39;00m\n\u001b[1;32m      9\u001b[0m \u001b[38;5;28;01mimport\u001b[39;00m \u001b[38;5;21;01mpdftotext\u001b[39;00m\n",
      "File \u001b[0;32m~/dev/bench_pdf/.venv/lib/python3.10/site-packages/pdfplumber/__init__.py:15\u001b[0m\n\u001b[1;32m     13\u001b[0m \u001b[38;5;28;01mfrom\u001b[39;00m \u001b[38;5;21;01m.\u001b[39;00m \u001b[38;5;28;01mimport\u001b[39;00m utils\n\u001b[1;32m     14\u001b[0m \u001b[38;5;28;01mfrom\u001b[39;00m \u001b[38;5;21;01m.\u001b[39;00m\u001b[38;5;21;01m_version\u001b[39;00m \u001b[38;5;28;01mimport\u001b[39;00m __version__\n\u001b[0;32m---> 15\u001b[0m \u001b[38;5;28;01mfrom\u001b[39;00m \u001b[38;5;21;01m.\u001b[39;00m\u001b[38;5;21;01mpdf\u001b[39;00m \u001b[38;5;28;01mimport\u001b[39;00m PDF\n\u001b[1;32m     16\u001b[0m \u001b[38;5;28;01mfrom\u001b[39;00m \u001b[38;5;21;01m.\u001b[39;00m\u001b[38;5;21;01mrepair\u001b[39;00m \u001b[38;5;28;01mimport\u001b[39;00m repair\n\u001b[1;32m     18\u001b[0m \u001b[38;5;28mopen\u001b[39m \u001b[38;5;241m=\u001b[39m PDF\u001b[38;5;241m.\u001b[39mopen\n",
      "File \u001b[0;32m~/dev/bench_pdf/.venv/lib/python3.10/site-packages/pdfplumber/pdf.py:17\u001b[0m\n\u001b[1;32m     15\u001b[0m \u001b[38;5;28;01mfrom\u001b[39;00m \u001b[38;5;21;01m.\u001b[39;00m\u001b[38;5;21;01m_typing\u001b[39;00m \u001b[38;5;28;01mimport\u001b[39;00m T_num, T_obj_list\n\u001b[1;32m     16\u001b[0m \u001b[38;5;28;01mfrom\u001b[39;00m \u001b[38;5;21;01m.\u001b[39;00m\u001b[38;5;21;01mcontainer\u001b[39;00m \u001b[38;5;28;01mimport\u001b[39;00m Container\n\u001b[0;32m---> 17\u001b[0m \u001b[38;5;28;01mfrom\u001b[39;00m \u001b[38;5;21;01m.\u001b[39;00m\u001b[38;5;21;01mpage\u001b[39;00m \u001b[38;5;28;01mimport\u001b[39;00m Page\n\u001b[1;32m     18\u001b[0m \u001b[38;5;28;01mfrom\u001b[39;00m \u001b[38;5;21;01m.\u001b[39;00m\u001b[38;5;21;01mrepair\u001b[39;00m \u001b[38;5;28;01mimport\u001b[39;00m _repair\n\u001b[1;32m     19\u001b[0m \u001b[38;5;28;01mfrom\u001b[39;00m \u001b[38;5;21;01m.\u001b[39;00m\u001b[38;5;21;01mstructure\u001b[39;00m \u001b[38;5;28;01mimport\u001b[39;00m PDFStructTree, StructTreeMissing\n",
      "File \u001b[0;32m~/dev/bench_pdf/.venv/lib/python3.10/site-packages/pdfplumber/page.py:26\u001b[0m\n\u001b[1;32m     16\u001b[0m \u001b[38;5;28;01mfrom\u001b[39;00m \u001b[38;5;21;01mpdfminer\u001b[39;00m\u001b[38;5;21;01m.\u001b[39;00m\u001b[38;5;21;01mconverter\u001b[39;00m \u001b[38;5;28;01mimport\u001b[39;00m PDFPageAggregator\n\u001b[1;32m     17\u001b[0m \u001b[38;5;28;01mfrom\u001b[39;00m \u001b[38;5;21;01mpdfminer\u001b[39;00m\u001b[38;5;21;01m.\u001b[39;00m\u001b[38;5;21;01mlayout\u001b[39;00m \u001b[38;5;28;01mimport\u001b[39;00m (\n\u001b[1;32m     18\u001b[0m     LTChar,\n\u001b[1;32m     19\u001b[0m     LTComponent,\n\u001b[0;32m   (...)\u001b[0m\n\u001b[1;32m     24\u001b[0m     LTTextContainer,\n\u001b[1;32m     25\u001b[0m )\n\u001b[0;32m---> 26\u001b[0m \u001b[38;5;28;01mfrom\u001b[39;00m \u001b[38;5;21;01mpdfminer\u001b[39;00m\u001b[38;5;21;01m.\u001b[39;00m\u001b[38;5;21;01mpdfinterp\u001b[39;00m \u001b[38;5;28;01mimport\u001b[39;00m PDFPageInterpreter, PDFStackT\n\u001b[1;32m     27\u001b[0m \u001b[38;5;28;01mfrom\u001b[39;00m \u001b[38;5;21;01mpdfminer\u001b[39;00m\u001b[38;5;21;01m.\u001b[39;00m\u001b[38;5;21;01mpdfpage\u001b[39;00m \u001b[38;5;28;01mimport\u001b[39;00m PDFPage\n\u001b[1;32m     28\u001b[0m \u001b[38;5;28;01mfrom\u001b[39;00m \u001b[38;5;21;01mpdfminer\u001b[39;00m\u001b[38;5;21;01m.\u001b[39;00m\u001b[38;5;21;01mpsparser\u001b[39;00m \u001b[38;5;28;01mimport\u001b[39;00m PSLiteral\n",
      "\u001b[0;31mImportError\u001b[0m: cannot import name 'PDFStackT' from 'pdfminer.pdfinterp' (/home/vini/dev/bench_pdf/.venv/lib/python3.10/site-packages/pdfminer/pdfinterp.py)"
     ]
    }
   ],
   "source": [
    "import os\n",
    "import time\n",
    "import matplotlib.pyplot as plt\n",
    "from PyPDF2 import PdfFileReader\n",
    "import textract\n",
    "import fitz  # PyMuPDF\n",
    "import pdfplumber\n",
    "import pdfrw\n",
    "import pdftotext\n",
    "import pypdfium2 as pdfium\n",
    "from tika import parser\n",
    "from borb.pdf import PDF\n"
   ]
  },
  {
   "cell_type": "markdown",
   "metadata": {},
   "source": [
    "benchmark: https://github.com/py-pdf/benchmarks\n",
    "dataset: https://www.kaggle.com/datasets/sourceduty/chatgpt-books?resource=download"
   ]
  },
  {
   "cell_type": "code",
   "execution_count": null,
   "metadata": {},
   "outputs": [],
   "source": [
    "def extract_text_pypdf2(pdf_path):\n",
    "    start_time = time.time()\n",
    "    with open(pdf_path, 'rb') as file:\n",
    "        reader = PdfFileReader(file)\n",
    "        for page_num in range(reader.numPages):\n",
    "            reader.getPage(page_num).extract_text()\n",
    "    end_time = time.time()\n",
    "    return end_time - start_time"
   ]
  },
  {
   "cell_type": "code",
   "execution_count": null,
   "metadata": {},
   "outputs": [],
   "source": [
    "def extract_text_textract(pdf_path):\n",
    "    start_time = time.time()\n",
    "    textract.process(pdf_path)\n",
    "    end_time = time.time()\n",
    "    return end_time - start_time"
   ]
  },
  {
   "cell_type": "code",
   "execution_count": null,
   "metadata": {},
   "outputs": [],
   "source": [
    "def extract_text_pymupdf(pdf_path):\n",
    "    start_time = time.time()\n",
    "    doc = fitz.open(pdf_path)\n",
    "    for page_num in range(doc.page_count):\n",
    "        page = doc.load_page(page_num)\n",
    "        page.get_text()\n",
    "    end_time = time.time()\n",
    "    return end_time - start_time"
   ]
  },
  {
   "cell_type": "code",
   "execution_count": null,
   "metadata": {},
   "outputs": [],
   "source": [
    "def extract_text_pdfminer(pdf_path):\n",
    "    start_time = time.time()\n",
    "    pdfminer_extract_text(pdf_path)\n",
    "    end_time = time.time()\n",
    "    return end_time - start_time"
   ]
  },
  {
   "cell_type": "code",
   "execution_count": null,
   "metadata": {},
   "outputs": [],
   "source": [
    "def extract_text_pdfplumber(pdf_path):\n",
    "    start_time = time.time()\n",
    "    with pdfplumber.open(pdf_path) as pdf:\n",
    "        for page in pdf.pages:\n",
    "            page.extract_text()\n",
    "    end_time = time.time()\n",
    "    return end_time - start_time"
   ]
  },
  {
   "cell_type": "code",
   "execution_count": null,
   "metadata": {},
   "outputs": [],
   "source": [
    "def extract_text_pdfrw(pdf_path):\n",
    "    start_time = time.time()\n",
    "    pdf = pdfrw.PdfReader(pdf_path)\n",
    "    for page in pdf.pages:\n",
    "        if '/Contents' in page:\n",
    "            page.Contents.stream\n",
    "    end_time = time.time()\n",
    "    return end_time - start_time"
   ]
  },
  {
   "cell_type": "code",
   "execution_count": null,
   "metadata": {},
   "outputs": [],
   "source": [
    "def extract_text_pdftotext(pdf_path):\n",
    "    start_time = time.time()\n",
    "    with open(pdf_path, 'rb') as file:\n",
    "        pdftotext.PDF(file)\n",
    "    end_time = time.time()\n",
    "    return end_time - start_time"
   ]
  },
  {
   "cell_type": "code",
   "execution_count": null,
   "metadata": {},
   "outputs": [],
   "source": [
    "def extract_text_pypdfium2(pdf_path):\n",
    "    start_time = time.time()\n",
    "    pdf = pdfium.PdfDocument(pdf_path)\n",
    "    for i in range(len(pdf)):\n",
    "        page = pdf[i]\n",
    "        page.get_textpage().get_text_range()\n",
    "    end_time = time.time()\n",
    "    return end_time - start_time"
   ]
  },
  {
   "cell_type": "code",
   "execution_count": null,
   "metadata": {},
   "outputs": [],
   "source": [
    "def extract_text_pypdf(pdf_path):\n",
    "    start_time = time.time()\n",
    "    reader = PdfFileReader(pdf_path)\n",
    "    for page in reader.pages:\n",
    "        page.extract_text()\n",
    "    end_time = time.time()\n",
    "    return end_time - start_time"
   ]
  },
  {
   "cell_type": "code",
   "execution_count": null,
   "metadata": {},
   "outputs": [],
   "source": [
    "def extract_text_tika(pdf_path):\n",
    "    start_time = time.time()\n",
    "    parser.from_file(pdf_path)\n",
    "    end_time = time.time()\n",
    "    return end_time - start_time"
   ]
  },
  {
   "cell_type": "code",
   "execution_count": null,
   "metadata": {},
   "outputs": [],
   "source": [
    "def extract_text_borb(pdf_path):\n",
    "    start_time = time.time()\n",
    "    pdf = PDF.loads(open(pdf_path, \"rb\"))\n",
    "    for page in pdf.get_page_objects():\n",
    "        page.get_text()\n",
    "    end_time = time.time()\n",
    "    return end_time - start_time"
   ]
  },
  {
   "cell_type": "code",
   "execution_count": null,
   "metadata": {},
   "outputs": [],
   "source": [
    "def process_pdfs_in_directory(directory):\n",
    "    files = [os.path.join(directory, f) for f in os.listdir(directory) if f.endswith('.pdf')]\n",
    "    \n",
    "    total_times = {\n",
    "        'PyPDF2': 0,\n",
    "        'Textract': 0,\n",
    "        'PyMuPDF': 0,\n",
    "        'pdfminer.six': 0,\n",
    "        'pdfplumber': 0,\n",
    "        'pdfrw': 0,\n",
    "        'pdftotext': 0,\n",
    "        'pypdfium2': 0,\n",
    "        'pypdf': 0,\n",
    "        'Tika': 0,\n",
    "        'Borb': 0\n",
    "    }\n",
    "\n",
    "    for pdf_path in files:\n",
    "        total_times['PyPDF2'] += extract_text_pypdf2(pdf_path)\n",
    "        total_times['Textract'] += extract_text_textract(pdf_path)\n",
    "        total_times['PyMuPDF'] += extract_text_pymupdf(pdf_path)\n",
    "        total_times['pdfminer.six'] += extract_text_pdfminer(pdf_path)\n",
    "        total_times['pdfplumber'] += extract_text_pdfplumber(pdf_path)\n",
    "        total_times['pdfrw'] += extract_text_pdfrw(pdf_path)\n",
    "        total_times['pdftotext'] += extract_text_pdftotext(pdf_path)\n",
    "        total_times['pypdfium2'] += extract_text_pypdfium2(pdf_path)\n",
    "        total_times['pypdf'] += extract_text_pypdf(pdf_path)\n",
    "        total_times['Tika'] += extract_text_tika(pdf_path)\n",
    "        total_times['Borb'] += extract_text_borb(pdf_path)\n",
    "\n",
    "    return total_times"
   ]
  },
  {
   "cell_type": "code",
   "execution_count": null,
   "metadata": {},
   "outputs": [],
   "source": [
    "def plot_execution_times(times):\n",
    "    libraries = list(times.keys())\n",
    "    execution_times = list(times.values())\n",
    "\n",
    "    plt.figure(figsize=(14, 8))\n",
    "    plt.bar(libraries, execution_times, color=['blue', 'green', 'red', 'purple', 'orange', 'yellow', 'cyan', 'magenta', 'grey', 'pink', 'brown', 'lightblue'])\n",
    "    plt.xlabel('Libraries')\n",
    "    plt.ylabel('Total Execution Time (s)')\n",
    "    plt.title('Total Execution Time Comparison for PDF Text Extraction')\n",
    "    plt.xticks(rotation=45)\n",
    "    plt.show()"
   ]
  },
  {
   "cell_type": "code",
   "execution_count": null,
   "metadata": {},
   "outputs": [],
   "source": [
    "directory_path = 'path/to/your/pdf/directory'\n",
    "total_times = process_pdfs_in_directory(directory_path)\n",
    "plot_execution_times(total_times)"
   ]
  }
 ],
 "metadata": {
  "kernelspec": {
   "display_name": ".venv",
   "language": "python",
   "name": "python3"
  },
  "language_info": {
   "codemirror_mode": {
    "name": "ipython",
    "version": 3
   },
   "file_extension": ".py",
   "mimetype": "text/x-python",
   "name": "python",
   "nbconvert_exporter": "python",
   "pygments_lexer": "ipython3",
   "version": "3.10.12"
  }
 },
 "nbformat": 4,
 "nbformat_minor": 2
}
