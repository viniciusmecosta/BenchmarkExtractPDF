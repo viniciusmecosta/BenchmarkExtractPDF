{
 "cells": [
  {
   "cell_type": "code",
   "execution_count": 46,
   "metadata": {},
   "outputs": [],
   "source": [
    "import os\n",
    "import time\n",
    "import matplotlib.pyplot as plt\n",
    "from PyPDF2 import PdfFileReader\n",
    "import textract\n",
    "import fitz  # PyMuPDF\n",
    "import pdfplumber\n",
    "import pdfrw\n",
    "import pdftotext\n",
    "import pypdfium2 as pdfium\n",
    "from tika import parser\n",
    "from borb.pdf import PDF\n"
   ]
  },
  {
   "cell_type": "markdown",
   "metadata": {},
   "source": [
    "benchmark: https://github.com/py-pdf/benchmarks\n",
    "dataset: https://www.kaggle.com/datasets/sourceduty/chatgpt-books?resource=download"
   ]
  },
  {
   "cell_type": "code",
   "execution_count": 47,
   "metadata": {},
   "outputs": [],
   "source": [
    "def extract_text_pypdf2(pdf_path):\n",
    "    start_time = time.time()\n",
    "    with open(pdf_path, 'rb') as file:\n",
    "        reader = PdfFileReader(file)\n",
    "        for page_num in range(reader.numPages):\n",
    "            reader.getPage(page_num).extract_text()\n",
    "    end_time = time.time()\n",
    "    return end_time - start_time"
   ]
  },
  {
   "cell_type": "code",
   "execution_count": 48,
   "metadata": {},
   "outputs": [],
   "source": [
    "def extract_text_textract(pdf_path):\n",
    "    start_time = time.time()\n",
    "    textract.process(pdf_path)\n",
    "    end_time = time.time()\n",
    "    return end_time - start_time"
   ]
  },
  {
   "cell_type": "code",
   "execution_count": 49,
   "metadata": {},
   "outputs": [],
   "source": [
    "def extract_text_pymupdf(pdf_path):\n",
    "    start_time = time.time()\n",
    "    doc = fitz.open(pdf_path)\n",
    "    for page_num in range(doc.page_count):\n",
    "        page = doc.load_page(page_num)\n",
    "        page.get_text()\n",
    "    end_time = time.time()\n",
    "    return end_time - start_time"
   ]
  },
  {
   "cell_type": "code",
   "execution_count": 50,
   "metadata": {},
   "outputs": [],
   "source": [
    "def extract_text_pdfminer(pdf_path):\n",
    "    start_time = time.time()\n",
    "    pdfminer_extract_text(pdf_path)\n",
    "    end_time = time.time()\n",
    "    return end_time - start_time"
   ]
  },
  {
   "cell_type": "code",
   "execution_count": 51,
   "metadata": {},
   "outputs": [],
   "source": [
    "def extract_text_pdfplumber(pdf_path):\n",
    "    start_time = time.time()\n",
    "    with pdfplumber.open(pdf_path) as pdf:\n",
    "        for page in pdf.pages:\n",
    "            page.extract_text()\n",
    "    end_time = time.time()\n",
    "    return end_time - start_time"
   ]
  },
  {
   "cell_type": "code",
   "execution_count": 52,
   "metadata": {},
   "outputs": [],
   "source": [
    "def extract_text_pdfrw(pdf_path):\n",
    "    start_time = time.time()\n",
    "    pdf = pdfrw.PdfReader(pdf_path)\n",
    "    for page in pdf.pages:\n",
    "        if '/Contents' in page:\n",
    "            page.Contents.stream\n",
    "    end_time = time.time()\n",
    "    return end_time - start_time"
   ]
  },
  {
   "cell_type": "code",
   "execution_count": 53,
   "metadata": {},
   "outputs": [],
   "source": [
    "def extract_text_pdftotext(pdf_path):\n",
    "    start_time = time.time()\n",
    "    with open(pdf_path, 'rb') as file:\n",
    "        pdftotext.PDF(file)\n",
    "    end_time = time.time()\n",
    "    return end_time - start_time"
   ]
  },
  {
   "cell_type": "code",
   "execution_count": 54,
   "metadata": {},
   "outputs": [],
   "source": [
    "def extract_text_pypdfium2(pdf_path):\n",
    "    start_time = time.time()\n",
    "    pdf = pdfium.PdfDocument(pdf_path)\n",
    "    for i in range(len(pdf)):\n",
    "        page = pdf[i]\n",
    "        page.get_textpage().get_text_range()\n",
    "    end_time = time.time()\n",
    "    return end_time - start_time"
   ]
  },
  {
   "cell_type": "code",
   "execution_count": 55,
   "metadata": {},
   "outputs": [],
   "source": [
    "def extract_text_pypdf(pdf_path):\n",
    "    start_time = time.time()\n",
    "    reader = PdfFileReader(pdf_path)\n",
    "    for page in reader.pages:\n",
    "        page.extract_text()\n",
    "    end_time = time.time()\n",
    "    return end_time - start_time"
   ]
  },
  {
   "cell_type": "code",
   "execution_count": 56,
   "metadata": {},
   "outputs": [],
   "source": [
    "def extract_text_tika(pdf_path):\n",
    "    start_time = time.time()\n",
    "    parser.from_file(pdf_path)\n",
    "    end_time = time.time()\n",
    "    return end_time - start_time"
   ]
  },
  {
   "cell_type": "code",
   "execution_count": 57,
   "metadata": {},
   "outputs": [],
   "source": [
    "def extract_text_borb(pdf_path):\n",
    "    start_time = time.time()\n",
    "    pdf = PDF.loads(open(pdf_path, \"rb\"))\n",
    "    for page in pdf.get_page_objects():\n",
    "        page.get_text()\n",
    "    end_time = time.time()\n",
    "    return end_time - start_time"
   ]
  },
  {
   "cell_type": "code",
   "execution_count": 58,
   "metadata": {},
   "outputs": [],
   "source": [
    "def process_pdfs_in_directory(directory):\n",
    "    files = [os.path.join(directory, f) for f in os.listdir(directory) if f.endswith('.pdf')]\n",
    "    \n",
    "    total_times = {\n",
    "        'PyPDF2': 0,\n",
    "        'Textract': 0,\n",
    "        'PyMuPDF': 0,\n",
    "        'pdfminer.six': 0,\n",
    "        'pdfplumber': 0,\n",
    "        'pdfrw': 0,\n",
    "        'pdftotext': 0,\n",
    "        'pypdfium2': 0,\n",
    "        'pypdf': 0,\n",
    "        'Tika': 0,\n",
    "        'Borb': 0\n",
    "    }\n",
    "\n",
    "    for pdf_path in files:\n",
    "        #total_times['PyPDF2'] += extract_text_pypdf2(pdf_path)\n",
    "        total_times['Textract'] += extract_text_textract(pdf_path)\n",
    "        total_times['PyMuPDF'] += extract_text_pymupdf(pdf_path)\n",
    "        #total_times['pdfminer.six'] += extract_text_pdfminer(pdf_path)\n",
    "        total_times['pdfplumber'] += extract_text_pdfplumber(pdf_path)\n",
    "        #total_times['pdfrw'] += extract_text_pdfrw(pdf_path)\n",
    "        total_times['pdftotext'] += extract_text_pdftotext(pdf_path)\n",
    "        total_times['pypdfium2'] += extract_text_pypdfium2(pdf_path)\n",
    "        #total_times['pypdf'] += extract_text_pypdf(pdf_path)\n",
    "        total_times['Tika'] += extract_text_tika(pdf_path)\n",
    "        #total_times['Borb'] += extract_text_borb(pdf_path)\n",
    "\n",
    "    return total_times"
   ]
  },
  {
   "cell_type": "code",
   "execution_count": 59,
   "metadata": {},
   "outputs": [],
   "source": [
    "def plot_execution_times(times):\n",
    "    libraries = list(times.keys())\n",
    "    execution_times = list(times.values())\n",
    "\n",
    "    plt.figure(figsize=(14, 8))\n",
    "    plt.bar(libraries, execution_times, color=['blue', 'green', 'red', 'purple', 'orange', 'yellow', 'cyan', 'magenta', 'grey', 'pink', 'brown', 'lightblue'])\n",
    "    plt.xlabel('Libraries')\n",
    "    plt.ylabel('Total Execution Time (s)')\n",
    "    plt.title('Total Execution Time Comparison for PDF Text Extraction')\n",
    "    plt.xticks(rotation=45)\n",
    "    plt.show()"
   ]
  },
  {
   "cell_type": "code",
   "execution_count": 60,
   "metadata": {},
   "outputs": [
    {
     "ename": "UnicodeDecodeError",
     "evalue": "'charmap' codec can't decode byte 0x9d in position 1924: character maps to <undefined>",
     "output_type": "error",
     "traceback": [
      "\u001b[0;31m---------------------------------------------------------------------------\u001b[0m",
      "\u001b[0;31mUnicodeDecodeError\u001b[0m                        Traceback (most recent call last)",
      "Cell \u001b[0;32mIn[60], line 2\u001b[0m\n\u001b[1;32m      1\u001b[0m directory_path \u001b[38;5;241m=\u001b[39m \u001b[38;5;124m'\u001b[39m\u001b[38;5;124mdata/\u001b[39m\u001b[38;5;124m'\u001b[39m\n\u001b[0;32m----> 2\u001b[0m total_times \u001b[38;5;241m=\u001b[39m \u001b[43mprocess_pdfs_in_directory\u001b[49m\u001b[43m(\u001b[49m\u001b[43mdirectory_path\u001b[49m\u001b[43m)\u001b[49m\n\u001b[1;32m      3\u001b[0m plot_execution_times(total_times)\n",
      "Cell \u001b[0;32mIn[58], line 20\u001b[0m, in \u001b[0;36mprocess_pdfs_in_directory\u001b[0;34m(directory)\u001b[0m\n\u001b[1;32m      4\u001b[0m total_times \u001b[38;5;241m=\u001b[39m {\n\u001b[1;32m      5\u001b[0m     \u001b[38;5;124m'\u001b[39m\u001b[38;5;124mPyPDF2\u001b[39m\u001b[38;5;124m'\u001b[39m: \u001b[38;5;241m0\u001b[39m,\n\u001b[1;32m      6\u001b[0m     \u001b[38;5;124m'\u001b[39m\u001b[38;5;124mTextract\u001b[39m\u001b[38;5;124m'\u001b[39m: \u001b[38;5;241m0\u001b[39m,\n\u001b[0;32m   (...)\u001b[0m\n\u001b[1;32m     15\u001b[0m     \u001b[38;5;124m'\u001b[39m\u001b[38;5;124mBorb\u001b[39m\u001b[38;5;124m'\u001b[39m: \u001b[38;5;241m0\u001b[39m\n\u001b[1;32m     16\u001b[0m }\n\u001b[1;32m     18\u001b[0m \u001b[38;5;28;01mfor\u001b[39;00m pdf_path \u001b[38;5;129;01min\u001b[39;00m files:\n\u001b[1;32m     19\u001b[0m     \u001b[38;5;66;03m#total_times['PyPDF2'] += extract_text_pypdf2(pdf_path)\u001b[39;00m\n\u001b[0;32m---> 20\u001b[0m     total_times[\u001b[38;5;124m'\u001b[39m\u001b[38;5;124mTextract\u001b[39m\u001b[38;5;124m'\u001b[39m] \u001b[38;5;241m+\u001b[39m\u001b[38;5;241m=\u001b[39m \u001b[43mextract_text_textract\u001b[49m\u001b[43m(\u001b[49m\u001b[43mpdf_path\u001b[49m\u001b[43m)\u001b[49m\n\u001b[1;32m     21\u001b[0m     total_times[\u001b[38;5;124m'\u001b[39m\u001b[38;5;124mPyMuPDF\u001b[39m\u001b[38;5;124m'\u001b[39m] \u001b[38;5;241m+\u001b[39m\u001b[38;5;241m=\u001b[39m extract_text_pymupdf(pdf_path)\n\u001b[1;32m     22\u001b[0m     \u001b[38;5;66;03m#total_times['pdfminer.six'] += extract_text_pdfminer(pdf_path)\u001b[39;00m\n",
      "Cell \u001b[0;32mIn[48], line 3\u001b[0m, in \u001b[0;36mextract_text_textract\u001b[0;34m(pdf_path)\u001b[0m\n\u001b[1;32m      1\u001b[0m \u001b[38;5;28;01mdef\u001b[39;00m \u001b[38;5;21mextract_text_textract\u001b[39m(pdf_path):\n\u001b[1;32m      2\u001b[0m     start_time \u001b[38;5;241m=\u001b[39m time\u001b[38;5;241m.\u001b[39mtime()\n\u001b[0;32m----> 3\u001b[0m     \u001b[43mtextract\u001b[49m\u001b[38;5;241;43m.\u001b[39;49m\u001b[43mprocess\u001b[49m\u001b[43m(\u001b[49m\u001b[43mpdf_path\u001b[49m\u001b[43m)\u001b[49m\n\u001b[1;32m      4\u001b[0m     end_time \u001b[38;5;241m=\u001b[39m time\u001b[38;5;241m.\u001b[39mtime()\n\u001b[1;32m      5\u001b[0m     \u001b[38;5;28;01mreturn\u001b[39;00m end_time \u001b[38;5;241m-\u001b[39m start_time\n",
      "File \u001b[0;32m~/dev/Benchmark_lib_pdf/.venv/lib/python3.10/site-packages/textract/parsers/__init__.py:77\u001b[0m, in \u001b[0;36mprocess\u001b[0;34m(filename, encoding, extension, **kwargs)\u001b[0m\n\u001b[1;32m     74\u001b[0m \u001b[38;5;66;03m# do the extraction\u001b[39;00m\n\u001b[1;32m     76\u001b[0m parser \u001b[38;5;241m=\u001b[39m filetype_module\u001b[38;5;241m.\u001b[39mParser()\n\u001b[0;32m---> 77\u001b[0m \u001b[38;5;28;01mreturn\u001b[39;00m \u001b[43mparser\u001b[49m\u001b[38;5;241;43m.\u001b[39;49m\u001b[43mprocess\u001b[49m\u001b[43m(\u001b[49m\u001b[43mfilename\u001b[49m\u001b[43m,\u001b[49m\u001b[43m \u001b[49m\u001b[43mencoding\u001b[49m\u001b[43m,\u001b[49m\u001b[43m \u001b[49m\u001b[38;5;241;43m*\u001b[39;49m\u001b[38;5;241;43m*\u001b[39;49m\u001b[43mkwargs\u001b[49m\u001b[43m)\u001b[49m\n",
      "File \u001b[0;32m~/dev/Benchmark_lib_pdf/.venv/lib/python3.10/site-packages/textract/parsers/utils.py:47\u001b[0m, in \u001b[0;36mBaseParser.process\u001b[0;34m(self, filename, encoding, **kwargs)\u001b[0m\n\u001b[1;32m     42\u001b[0m \u001b[38;5;66;03m# make a \"unicode sandwich\" to handle dealing with unknown\u001b[39;00m\n\u001b[1;32m     43\u001b[0m \u001b[38;5;66;03m# input byte strings and converting them to a predictable\u001b[39;00m\n\u001b[1;32m     44\u001b[0m \u001b[38;5;66;03m# output encoding\u001b[39;00m\n\u001b[1;32m     45\u001b[0m \u001b[38;5;66;03m# http://nedbatchelder.com/text/unipain/unipain.html#35\u001b[39;00m\n\u001b[1;32m     46\u001b[0m byte_string \u001b[38;5;241m=\u001b[39m \u001b[38;5;28mself\u001b[39m\u001b[38;5;241m.\u001b[39mextract(filename, \u001b[38;5;241m*\u001b[39m\u001b[38;5;241m*\u001b[39mkwargs)\n\u001b[0;32m---> 47\u001b[0m unicode_string \u001b[38;5;241m=\u001b[39m \u001b[38;5;28;43mself\u001b[39;49m\u001b[38;5;241;43m.\u001b[39;49m\u001b[43mdecode\u001b[49m\u001b[43m(\u001b[49m\u001b[43mbyte_string\u001b[49m\u001b[43m)\u001b[49m\n\u001b[1;32m     48\u001b[0m \u001b[38;5;28;01mreturn\u001b[39;00m \u001b[38;5;28mself\u001b[39m\u001b[38;5;241m.\u001b[39mencode(unicode_string, encoding)\n",
      "File \u001b[0;32m~/dev/Benchmark_lib_pdf/.venv/lib/python3.10/site-packages/textract/parsers/utils.py:65\u001b[0m, in \u001b[0;36mBaseParser.decode\u001b[0;34m(self, text)\u001b[0m\n\u001b[1;32m     63\u001b[0m \u001b[38;5;66;03m# use chardet to automatically detect the encoding text\u001b[39;00m\n\u001b[1;32m     64\u001b[0m result \u001b[38;5;241m=\u001b[39m chardet\u001b[38;5;241m.\u001b[39mdetect(text)\n\u001b[0;32m---> 65\u001b[0m \u001b[38;5;28;01mreturn\u001b[39;00m \u001b[43mtext\u001b[49m\u001b[38;5;241;43m.\u001b[39;49m\u001b[43mdecode\u001b[49m\u001b[43m(\u001b[49m\u001b[43mresult\u001b[49m\u001b[43m[\u001b[49m\u001b[38;5;124;43m'\u001b[39;49m\u001b[38;5;124;43mencoding\u001b[39;49m\u001b[38;5;124;43m'\u001b[39;49m\u001b[43m]\u001b[49m\u001b[43m)\u001b[49m\n",
      "File \u001b[0;32m/usr/lib/python3.10/encodings/cp1254.py:15\u001b[0m, in \u001b[0;36mCodec.decode\u001b[0;34m(self, input, errors)\u001b[0m\n\u001b[1;32m     14\u001b[0m \u001b[38;5;28;01mdef\u001b[39;00m \u001b[38;5;21mdecode\u001b[39m(\u001b[38;5;28mself\u001b[39m,\u001b[38;5;28minput\u001b[39m,errors\u001b[38;5;241m=\u001b[39m\u001b[38;5;124m'\u001b[39m\u001b[38;5;124mstrict\u001b[39m\u001b[38;5;124m'\u001b[39m):\n\u001b[0;32m---> 15\u001b[0m     \u001b[38;5;28;01mreturn\u001b[39;00m \u001b[43mcodecs\u001b[49m\u001b[38;5;241;43m.\u001b[39;49m\u001b[43mcharmap_decode\u001b[49m\u001b[43m(\u001b[49m\u001b[38;5;28;43minput\u001b[39;49m\u001b[43m,\u001b[49m\u001b[43merrors\u001b[49m\u001b[43m,\u001b[49m\u001b[43mdecoding_table\u001b[49m\u001b[43m)\u001b[49m\n",
      "\u001b[0;31mUnicodeDecodeError\u001b[0m: 'charmap' codec can't decode byte 0x9d in position 1924: character maps to <undefined>"
     ]
    }
   ],
   "source": [
    "directory_path = 'data'\n",
    "total_times = process_pdfs_in_directory(directory_path)\n",
    "plot_execution_times(total_times)"
   ]
  }
 ],
 "metadata": {
  "kernelspec": {
   "display_name": ".venv",
   "language": "python",
   "name": "python3"
  },
  "language_info": {
   "codemirror_mode": {
    "name": "ipython",
    "version": 3
   },
   "file_extension": ".py",
   "mimetype": "text/x-python",
   "name": "python",
   "nbconvert_exporter": "python",
   "pygments_lexer": "ipython3",
   "version": "3.10.12"
  }
 },
 "nbformat": 4,
 "nbformat_minor": 2
}
